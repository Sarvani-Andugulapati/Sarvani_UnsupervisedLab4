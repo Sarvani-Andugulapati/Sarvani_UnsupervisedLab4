{
 "cells": [
  {
   "cell_type": "markdown",
   "id": "83f26a29",
   "metadata": {
    "id": "83f26a29"
   },
   "source": [
    "# Unsupervised Lab Session"
   ]
  },
  {
   "cell_type": "markdown",
   "id": "8ea571d1",
   "metadata": {
    "id": "8ea571d1"
   },
   "source": [
    "## Learning outcomes:\n",
    "- Exploratory data analysis and data preparation for model building.\n",
    "- PCA for dimensionality reduction.\n",
    "- K-means and Agglomerative Clustering"
   ]
  },
  {
   "cell_type": "markdown",
   "id": "fd7f778a",
   "metadata": {
    "id": "fd7f778a"
   },
   "source": [
    "## Problem Statement\n",
    "Based on the given marketing campigan dataset, segment the similar customers into suitable clusters. Analyze the clusters and provide your insights to help the organization promote their business."
   ]
  },
  {
   "cell_type": "markdown",
   "id": "33b58f8f",
   "metadata": {
    "id": "33b58f8f"
   },
   "source": [
    "## Context:\n",
    "- Customer Personality Analysis is a detailed analysis of a company’s ideal customers. It helps a business to better understand its customers and makes it easier for them to modify products according to the specific needs, behaviors and concerns of different types of customers.\n",
    "- Customer personality analysis helps a business to modify its product based on its target customers from different types of customer segments. For example, instead of spending money to market a new product to every customer in the company’s database, a company can analyze which customer segment is most likely to buy the product and then market the product only on that particular segment."
   ]
  },
  {
   "cell_type": "markdown",
   "id": "867166aa",
   "metadata": {
    "id": "867166aa"
   },
   "source": [
    "## About dataset\n",
    "- Source: https://www.kaggle.com/datasets/imakash3011/customer-personality-analysis?datasetId=1546318&sortBy=voteCount\n",
    "\n",
    "### Attribute Information:\n",
    "- ID: Customer's unique identifier\n",
    "- Year_Birth: Customer's birth year\n",
    "- Education: Customer's education level\n",
    "- Marital_Status: Customer's marital status\n",
    "- Income: Customer's yearly household income\n",
    "- Kidhome: Number of children in customer's household\n",
    "- Teenhome: Number of teenagers in customer's household\n",
    "- Dt_Customer: Date of customer's enrollment with the company\n",
    "- Recency: Number of days since customer's last purchase\n",
    "- Complain: 1 if the customer complained in the last 2 years, 0 otherwise\n",
    "- MntWines: Amount spent on wine in last 2 years\n",
    "- MntFruits: Amount spent on fruits in last 2 years\n",
    "- MntMeatProducts: Amount spent on meat in last 2 years\n",
    "- MntFishProducts: Amount spent on fish in last 2 years\n",
    "- MntSweetProducts: Amount spent on sweets in last 2 years\n",
    "- MntGoldProds: Amount spent on gold in last 2 years\n",
    "- NumDealsPurchases: Number of purchases made with a discount\n",
    "- AcceptedCmp1: 1 if customer accepted the offer in the 1st campaign, 0 otherwise\n",
    "- AcceptedCmp2: 1 if customer accepted the offer in the 2nd campaign, 0 otherwise\n",
    "- AcceptedCmp3: 1 if customer accepted the offer in the 3rd campaign, 0 otherwise\n",
    "- AcceptedCmp4: 1 if customer accepted the offer in the 4th campaign, 0 otherwise\n",
    "- AcceptedCmp5: 1 if customer accepted the offer in the 5th campaign, 0 otherwise\n",
    "- Response: 1 if customer accepted the offer in the last campaign, 0 otherwise\n",
    "- NumWebPurchases: Number of purchases made through the company’s website\n",
    "- NumCatalogPurchases: Number of purchases made using a catalogue\n",
    "- NumStorePurchases: Number of purchases made directly in stores\n",
    "- NumWebVisitsMonth: Number of visits to company’s website in the last month"
   ]
  },
  {
   "cell_type": "markdown",
   "id": "5a830406",
   "metadata": {
    "id": "5a830406"
   },
   "source": [
    "### 1. Import required libraries"
   ]
  },
  {
   "cell_type": "code",
   "execution_count": 1,
   "id": "d65c5528",
   "metadata": {
    "id": "d65c5528"
   },
   "outputs": [
    {
     "name": "stdout",
     "output_type": "stream",
     "text": [
      "Requirement already satisfied: matplotlib in c:\\users\\user\\anaconda3\\lib\\site-packages (3.7.0)\n",
      "Requirement already satisfied: pyparsing>=2.3.1 in c:\\users\\user\\anaconda3\\lib\\site-packages (from matplotlib) (3.0.9)\n",
      "Requirement already satisfied: pillow>=6.2.0 in c:\\users\\user\\anaconda3\\lib\\site-packages (from matplotlib) (9.4.0)\n",
      "Requirement already satisfied: numpy>=1.20 in c:\\users\\user\\anaconda3\\lib\\site-packages (from matplotlib) (1.23.5)\n",
      "Requirement already satisfied: python-dateutil>=2.7 in c:\\users\\user\\anaconda3\\lib\\site-packages (from matplotlib) (2.8.2)\n",
      "Requirement already satisfied: fonttools>=4.22.0 in c:\\users\\user\\anaconda3\\lib\\site-packages (from matplotlib) (4.25.0)\n",
      "Requirement already satisfied: cycler>=0.10 in c:\\users\\user\\anaconda3\\lib\\site-packages (from matplotlib) (0.11.0)\n",
      "Requirement already satisfied: contourpy>=1.0.1 in c:\\users\\user\\anaconda3\\lib\\site-packages (from matplotlib) (1.0.5)\n",
      "Requirement already satisfied: packaging>=20.0 in c:\\users\\user\\anaconda3\\lib\\site-packages (from matplotlib) (22.0)\n",
      "Requirement already satisfied: kiwisolver>=1.0.1 in c:\\users\\user\\anaconda3\\lib\\site-packages (from matplotlib) (1.4.4)\n",
      "Requirement already satisfied: six>=1.5 in c:\\users\\user\\anaconda3\\lib\\site-packages (from python-dateutil>=2.7->matplotlib) (1.16.0)\n"
     ]
    }
   ],
   "source": [
    "!pip install matplotlib\n",
    "import warnings\n",
    "warnings.filterwarnings(\"ignore\")"
   ]
  },
  {
   "cell_type": "code",
   "execution_count": 55,
   "id": "f90322b8",
   "metadata": {},
   "outputs": [],
   "source": [
    "import numpy as np\n",
    "import pandas as pd\n",
    "import matplotlib.pyplot as plt\n",
    "import seaborn as sns\n",
    "from sklearn.model_selection import train_test_split\n",
    "from sklearn.metrics import classification_report,confusion_matrix,roc_curve,accuracy_score,auc,roc_auc_score\n",
    "from sklearn.ensemble import RandomForestClassifier\n",
    "from sklearn.preprocessing import LabelEncoder\n",
    "from sklearn.preprocessing import StandardScaler,MinMaxScaler\n",
    "from sklearn.discriminant_analysis import LinearDiscriminantAnalysis as LDA\n",
    "from sklearn.decomposition import PCA\n",
    "from sklearn.cluster import KMeans"
   ]
  },
  {
   "cell_type": "markdown",
   "id": "c80eb960",
   "metadata": {
    "id": "c80eb960"
   },
   "source": [
    "### 2. Load the CSV file (i.e marketing.csv) and display the first 5 rows of the dataframe. Check the shape and info of the dataset."
   ]
  },
  {
   "cell_type": "code",
   "execution_count": 7,
   "id": "9a6953f2",
   "metadata": {},
   "outputs": [],
   "source": [
    "df = pd.read_csv('marketing.csv',encoding='unicode_escape')"
   ]
  },
  {
   "cell_type": "code",
   "execution_count": 4,
   "id": "1caebc10",
   "metadata": {
    "id": "1caebc10"
   },
   "outputs": [
    {
     "data": {
      "text/html": [
       "<div>\n",
       "<style scoped>\n",
       "    .dataframe tbody tr th:only-of-type {\n",
       "        vertical-align: middle;\n",
       "    }\n",
       "\n",
       "    .dataframe tbody tr th {\n",
       "        vertical-align: top;\n",
       "    }\n",
       "\n",
       "    .dataframe thead th {\n",
       "        text-align: right;\n",
       "    }\n",
       "</style>\n",
       "<table border=\"1\" class=\"dataframe\">\n",
       "  <thead>\n",
       "    <tr style=\"text-align: right;\">\n",
       "      <th></th>\n",
       "      <th>ID</th>\n",
       "      <th>Year_Birth</th>\n",
       "      <th>Education</th>\n",
       "      <th>Marital_Status</th>\n",
       "      <th>Income</th>\n",
       "      <th>Kidhome</th>\n",
       "      <th>Teenhome</th>\n",
       "      <th>Dt_Customer</th>\n",
       "      <th>Recency</th>\n",
       "      <th>MntWines</th>\n",
       "      <th>...</th>\n",
       "      <th>NumCatalogPurchases</th>\n",
       "      <th>NumStorePurchases</th>\n",
       "      <th>NumWebVisitsMonth</th>\n",
       "      <th>AcceptedCmp3</th>\n",
       "      <th>AcceptedCmp4</th>\n",
       "      <th>AcceptedCmp5</th>\n",
       "      <th>AcceptedCmp1</th>\n",
       "      <th>AcceptedCmp2</th>\n",
       "      <th>Complain</th>\n",
       "      <th>Response</th>\n",
       "    </tr>\n",
       "  </thead>\n",
       "  <tbody>\n",
       "    <tr>\n",
       "      <th>1066</th>\n",
       "      <td>3005</td>\n",
       "      <td>1992</td>\n",
       "      <td>Graduation</td>\n",
       "      <td>Single</td>\n",
       "      <td>83528.0</td>\n",
       "      <td>0</td>\n",
       "      <td>0</td>\n",
       "      <td>1/5/2014</td>\n",
       "      <td>7</td>\n",
       "      <td>530</td>\n",
       "      <td>...</td>\n",
       "      <td>10</td>\n",
       "      <td>8</td>\n",
       "      <td>1</td>\n",
       "      <td>1</td>\n",
       "      <td>0</td>\n",
       "      <td>0</td>\n",
       "      <td>1</td>\n",
       "      <td>0</td>\n",
       "      <td>0</td>\n",
       "      <td>1</td>\n",
       "    </tr>\n",
       "    <tr>\n",
       "      <th>799</th>\n",
       "      <td>8523</td>\n",
       "      <td>1968</td>\n",
       "      <td>Graduation</td>\n",
       "      <td>Married</td>\n",
       "      <td>19329.0</td>\n",
       "      <td>1</td>\n",
       "      <td>0</td>\n",
       "      <td>14-12-2013</td>\n",
       "      <td>39</td>\n",
       "      <td>24</td>\n",
       "      <td>...</td>\n",
       "      <td>0</td>\n",
       "      <td>3</td>\n",
       "      <td>8</td>\n",
       "      <td>0</td>\n",
       "      <td>0</td>\n",
       "      <td>0</td>\n",
       "      <td>0</td>\n",
       "      <td>0</td>\n",
       "      <td>0</td>\n",
       "      <td>0</td>\n",
       "    </tr>\n",
       "    <tr>\n",
       "      <th>1334</th>\n",
       "      <td>2535</td>\n",
       "      <td>1978</td>\n",
       "      <td>Master</td>\n",
       "      <td>Married</td>\n",
       "      <td>88097.0</td>\n",
       "      <td>1</td>\n",
       "      <td>0</td>\n",
       "      <td>18-08-2012</td>\n",
       "      <td>24</td>\n",
       "      <td>163</td>\n",
       "      <td>...</td>\n",
       "      <td>5</td>\n",
       "      <td>8</td>\n",
       "      <td>9</td>\n",
       "      <td>0</td>\n",
       "      <td>1</td>\n",
       "      <td>1</td>\n",
       "      <td>1</td>\n",
       "      <td>0</td>\n",
       "      <td>0</td>\n",
       "      <td>1</td>\n",
       "    </tr>\n",
       "    <tr>\n",
       "      <th>890</th>\n",
       "      <td>1928</td>\n",
       "      <td>1973</td>\n",
       "      <td>Graduation</td>\n",
       "      <td>Married</td>\n",
       "      <td>31814.0</td>\n",
       "      <td>1</td>\n",
       "      <td>0</td>\n",
       "      <td>9/2/2013</td>\n",
       "      <td>73</td>\n",
       "      <td>35</td>\n",
       "      <td>...</td>\n",
       "      <td>0</td>\n",
       "      <td>3</td>\n",
       "      <td>9</td>\n",
       "      <td>1</td>\n",
       "      <td>0</td>\n",
       "      <td>0</td>\n",
       "      <td>0</td>\n",
       "      <td>0</td>\n",
       "      <td>0</td>\n",
       "      <td>0</td>\n",
       "    </tr>\n",
       "    <tr>\n",
       "      <th>387</th>\n",
       "      <td>6202</td>\n",
       "      <td>1960</td>\n",
       "      <td>Graduation</td>\n",
       "      <td>Together</td>\n",
       "      <td>63381.0</td>\n",
       "      <td>0</td>\n",
       "      <td>1</td>\n",
       "      <td>5/10/2012</td>\n",
       "      <td>78</td>\n",
       "      <td>571</td>\n",
       "      <td>...</td>\n",
       "      <td>5</td>\n",
       "      <td>13</td>\n",
       "      <td>2</td>\n",
       "      <td>0</td>\n",
       "      <td>0</td>\n",
       "      <td>0</td>\n",
       "      <td>0</td>\n",
       "      <td>0</td>\n",
       "      <td>0</td>\n",
       "      <td>0</td>\n",
       "    </tr>\n",
       "  </tbody>\n",
       "</table>\n",
       "<p>5 rows × 27 columns</p>\n",
       "</div>"
      ],
      "text/plain": [
       "        ID  Year_Birth   Education Marital_Status   Income  Kidhome  Teenhome  \\\n",
       "1066  3005        1992  Graduation         Single  83528.0        0         0   \n",
       "799   8523        1968  Graduation        Married  19329.0        1         0   \n",
       "1334  2535        1978      Master        Married  88097.0        1         0   \n",
       "890   1928        1973  Graduation        Married  31814.0        1         0   \n",
       "387   6202        1960  Graduation       Together  63381.0        0         1   \n",
       "\n",
       "     Dt_Customer  Recency  MntWines  ...  NumCatalogPurchases  \\\n",
       "1066    1/5/2014        7       530  ...                   10   \n",
       "799   14-12-2013       39        24  ...                    0   \n",
       "1334  18-08-2012       24       163  ...                    5   \n",
       "890     9/2/2013       73        35  ...                    0   \n",
       "387    5/10/2012       78       571  ...                    5   \n",
       "\n",
       "      NumStorePurchases  NumWebVisitsMonth  AcceptedCmp3  AcceptedCmp4  \\\n",
       "1066                  8                  1             1             0   \n",
       "799                   3                  8             0             0   \n",
       "1334                  8                  9             0             1   \n",
       "890                   3                  9             1             0   \n",
       "387                  13                  2             0             0   \n",
       "\n",
       "      AcceptedCmp5  AcceptedCmp1  AcceptedCmp2  Complain  Response  \n",
       "1066             0             1             0         0         1  \n",
       "799              0             0             0         0         0  \n",
       "1334             1             1             0         0         1  \n",
       "890              0             0             0         0         0  \n",
       "387              0             0             0         0         0  \n",
       "\n",
       "[5 rows x 27 columns]"
      ]
     },
     "execution_count": 4,
     "metadata": {},
     "output_type": "execute_result"
    }
   ],
   "source": [
    "df.sample(n=5)"
   ]
  },
  {
   "cell_type": "markdown",
   "id": "9ef75724",
   "metadata": {
    "id": "9ef75724"
   },
   "source": [
    "### 3. Check the percentage of missing values? If there is presence of missing values, treat them accordingly."
   ]
  },
  {
   "cell_type": "code",
   "execution_count": 5,
   "id": "f2c231df",
   "metadata": {
    "id": "f2c231df"
   },
   "outputs": [
    {
     "data": {
      "text/plain": [
       "ID                     0.000000\n",
       "Year_Birth             0.000000\n",
       "Education              0.000000\n",
       "Marital_Status         0.000000\n",
       "Income                 1.071429\n",
       "Kidhome                0.000000\n",
       "Teenhome               0.000000\n",
       "Dt_Customer            0.000000\n",
       "Recency                0.000000\n",
       "MntWines               0.000000\n",
       "MntFruits              0.000000\n",
       "MntMeatProducts        0.000000\n",
       "MntFishProducts        0.000000\n",
       "MntSweetProducts       0.000000\n",
       "MntGoldProds           0.000000\n",
       "NumDealsPurchases      0.000000\n",
       "NumWebPurchases        0.000000\n",
       "NumCatalogPurchases    0.000000\n",
       "NumStorePurchases      0.000000\n",
       "NumWebVisitsMonth      0.000000\n",
       "AcceptedCmp3           0.000000\n",
       "AcceptedCmp4           0.000000\n",
       "AcceptedCmp5           0.000000\n",
       "AcceptedCmp1           0.000000\n",
       "AcceptedCmp2           0.000000\n",
       "Complain               0.000000\n",
       "Response               0.000000\n",
       "dtype: float64"
      ]
     },
     "execution_count": 5,
     "metadata": {},
     "output_type": "execute_result"
    }
   ],
   "source": [
    "df.isnull().sum()/len(df)*100"
   ]
  },
  {
   "cell_type": "code",
   "execution_count": 8,
   "id": "e0a9d1b1",
   "metadata": {},
   "outputs": [],
   "source": [
    "df['Income'] = df['Income'].fillna(df['Income'].median())"
   ]
  },
  {
   "cell_type": "markdown",
   "id": "86f3709e",
   "metadata": {
    "id": "86f3709e"
   },
   "source": [
    "### 4. Check if there are any duplicate records in the dataset? If any drop them."
   ]
  },
  {
   "cell_type": "code",
   "execution_count": 8,
   "id": "2970671a",
   "metadata": {
    "id": "2970671a"
   },
   "outputs": [
    {
     "data": {
      "text/plain": [
       "0"
      ]
     },
     "execution_count": 8,
     "metadata": {},
     "output_type": "execute_result"
    }
   ],
   "source": [
    "len(df[df.duplicated()])"
   ]
  },
  {
   "cell_type": "markdown",
   "id": "3a6f2b5a",
   "metadata": {
    "id": "3a6f2b5a"
   },
   "source": [
    "### 5. Drop the columns which you think redundant for the analysis "
   ]
  },
  {
   "cell_type": "code",
   "execution_count": 9,
   "id": "a9ca818b",
   "metadata": {
    "id": "a9ca818b"
   },
   "outputs": [],
   "source": [
    "df = df.drop(['ID','Dt_Customer'], axis = 1)"
   ]
  },
  {
   "cell_type": "markdown",
   "id": "4ff0a112",
   "metadata": {
    "id": "4ff0a112"
   },
   "source": [
    "### 6. Check the unique categories in the column 'Marital_Status'\n",
    "- i) Group categories 'Married', 'Together' as 'relationship'\n",
    "- ii) Group categories 'Divorced', 'Widow', 'Alone', 'YOLO', and 'Absurd' as 'Single'."
   ]
  },
  {
   "cell_type": "code",
   "execution_count": 11,
   "id": "eb1be519",
   "metadata": {
    "id": "eb1be519"
   },
   "outputs": [
    {
     "data": {
      "text/plain": [
       "array(['Single', 'Together', 'Married', 'Divorced', 'Widow', 'Alone',\n",
       "       'Absurd', 'YOLO'], dtype=object)"
      ]
     },
     "execution_count": 11,
     "metadata": {},
     "output_type": "execute_result"
    }
   ],
   "source": [
    "df['Marital_Status'].unique()"
   ]
  },
  {
   "cell_type": "code",
   "execution_count": 12,
   "id": "ab68c5c9",
   "metadata": {},
   "outputs": [],
   "source": [
    "df['Marital_Status'] =df['Marital_Status'].replace({'Married':'relationship','Together':'relationship','Divorced':'Single',\n",
    "                                                   'Widow':'Single','Alone':'Single','YOLO':'Single','Absurd':'Single'})"
   ]
  },
  {
   "cell_type": "code",
   "execution_count": 13,
   "id": "2c4e3a1f",
   "metadata": {},
   "outputs": [
    {
     "data": {
      "text/plain": [
       "array(['Single', 'relationship'], dtype=object)"
      ]
     },
     "execution_count": 13,
     "metadata": {},
     "output_type": "execute_result"
    }
   ],
   "source": [
    "df['Marital_Status'].unique()"
   ]
  },
  {
   "cell_type": "markdown",
   "id": "9566bfbe",
   "metadata": {
    "id": "9566bfbe"
   },
   "source": [
    "### 7. Group the columns 'MntWines', 'MntFruits', 'MntMeatProducts', 'MntFishProducts', 'MntSweetProducts', and 'MntGoldProds' as 'Total_Expenses'"
   ]
  },
  {
   "cell_type": "code",
   "execution_count": 11,
   "id": "3c3fa800",
   "metadata": {
    "id": "3c3fa800"
   },
   "outputs": [
    {
     "name": "stdout",
     "output_type": "stream",
     "text": [
      "0    1617\n",
      "1      27\n",
      "2     776\n",
      "3      53\n",
      "4     422\n",
      "Name: Total_Expenses, dtype: int64\n"
     ]
    }
   ],
   "source": [
    "df['Total_Expenses'] = df['MntWines']+df['MntFruits']+df['MntMeatProducts']+df['MntFishProducts']+df['MntSweetProducts']+df['MntGoldProds']\n",
    "print(df['Total_Expenses'].head())"
   ]
  },
  {
   "cell_type": "markdown",
   "id": "bf0cd083",
   "metadata": {
    "id": "bf0cd083"
   },
   "source": [
    "### 8. Group the columns 'NumWebPurchases', 'NumCatalogPurchases', 'NumStorePurchases', and 'NumDealsPurchases' as 'Num_Total_Purchases'"
   ]
  },
  {
   "cell_type": "code",
   "execution_count": 13,
   "id": "9c535ede",
   "metadata": {
    "id": "9c535ede"
   },
   "outputs": [
    {
     "data": {
      "text/plain": [
       "0       25\n",
       "1        6\n",
       "2       21\n",
       "3        8\n",
       "4       19\n",
       "        ..\n",
       "2235    18\n",
       "2236    22\n",
       "2237    19\n",
       "2238    23\n",
       "2239    11\n",
       "Name: Num_Total_Purchases, Length: 2240, dtype: int64"
      ]
     },
     "execution_count": 13,
     "metadata": {},
     "output_type": "execute_result"
    }
   ],
   "source": [
    "df['Num_Total_Purchases'] = df['NumWebPurchases']+df['NumCatalogPurchases']+df['NumStorePurchases']+df['NumDealsPurchases']\n",
    "df['Num_Total_Purchases']                                                                                              "
   ]
  },
  {
   "cell_type": "markdown",
   "id": "52d2dca5",
   "metadata": {
    "id": "52d2dca5"
   },
   "source": [
    "### 9. Group the columns 'Kidhome' and 'Teenhome' as 'Kids'"
   ]
  },
  {
   "cell_type": "code",
   "execution_count": 14,
   "id": "f7c861a1",
   "metadata": {
    "id": "f7c861a1"
   },
   "outputs": [
    {
     "data": {
      "text/plain": [
       "0       0\n",
       "1       2\n",
       "2       0\n",
       "3       1\n",
       "4       1\n",
       "       ..\n",
       "2235    1\n",
       "2236    3\n",
       "2237    0\n",
       "2238    1\n",
       "2239    2\n",
       "Name: Kids, Length: 2240, dtype: int64"
      ]
     },
     "execution_count": 14,
     "metadata": {},
     "output_type": "execute_result"
    }
   ],
   "source": [
    "df['Kids'] = df['Kidhome']+df['Teenhome']\n",
    "df['Kids']"
   ]
  },
  {
   "cell_type": "markdown",
   "id": "36f67474",
   "metadata": {
    "id": "36f67474"
   },
   "source": [
    "### 10. Group columns 'AcceptedCmp1 , 2 , 3 , 4, 5' and 'Response' as 'TotalAcceptedCmp'"
   ]
  },
  {
   "cell_type": "code",
   "execution_count": 16,
   "id": "ecc9109f",
   "metadata": {
    "id": "ecc9109f"
   },
   "outputs": [
    {
     "data": {
      "text/plain": [
       "0       1\n",
       "1       0\n",
       "2       0\n",
       "3       0\n",
       "4       0\n",
       "       ..\n",
       "2235    0\n",
       "2236    1\n",
       "2237    1\n",
       "2238    0\n",
       "2239    1\n",
       "Name: TotalAcceptedCmp, Length: 2240, dtype: int64"
      ]
     },
     "execution_count": 16,
     "metadata": {},
     "output_type": "execute_result"
    }
   ],
   "source": [
    "df['TotalAcceptedCmp'] = df['AcceptedCmp1']+df['AcceptedCmp2']+df['AcceptedCmp3']+df['AcceptedCmp4']+df['AcceptedCmp5']+df['Response']\n",
    "df['TotalAcceptedCmp']"
   ]
  },
  {
   "cell_type": "markdown",
   "id": "886bfb08",
   "metadata": {
    "id": "886bfb08"
   },
   "source": [
    "### 11. Drop those columns which we have used above for obtaining new features"
   ]
  },
  {
   "cell_type": "code",
   "execution_count": 18,
   "id": "b02b1316",
   "metadata": {},
   "outputs": [
    {
     "data": {
      "text/plain": [
       "Index(['Year_Birth', 'Education', 'Marital_Status', 'Income', 'Kidhome',\n",
       "       'Teenhome', 'Recency', 'MntWines', 'MntFruits', 'MntMeatProducts',\n",
       "       'MntFishProducts', 'MntSweetProducts', 'MntGoldProds',\n",
       "       'NumDealsPurchases', 'NumWebPurchases', 'NumCatalogPurchases',\n",
       "       'NumStorePurchases', 'NumWebVisitsMonth', 'AcceptedCmp3',\n",
       "       'AcceptedCmp4', 'AcceptedCmp5', 'AcceptedCmp1', 'AcceptedCmp2',\n",
       "       'Complain', 'Response', 'Total_Expenses', 'Num_Total_Purchases', 'Kids',\n",
       "       'TotalAcceptedCmp', 'age'],\n",
       "      dtype='object')"
      ]
     },
     "execution_count": 18,
     "metadata": {},
     "output_type": "execute_result"
    }
   ],
   "source": [
    "df.columns"
   ]
  },
  {
   "cell_type": "code",
   "execution_count": 19,
   "id": "e853e663",
   "metadata": {
    "id": "e853e663"
   },
   "outputs": [],
   "source": [
    "df = df.drop(['TotalAcceptedCmp','Kids','Num_Total_Purchases','Total_Expenses'], axis = 1)"
   ]
  },
  {
   "cell_type": "code",
   "execution_count": 20,
   "id": "022d0efc",
   "metadata": {},
   "outputs": [
    {
     "data": {
      "text/plain": [
       "Index(['Year_Birth', 'Education', 'Marital_Status', 'Income', 'Kidhome',\n",
       "       'Teenhome', 'Recency', 'MntWines', 'MntFruits', 'MntMeatProducts',\n",
       "       'MntFishProducts', 'MntSweetProducts', 'MntGoldProds',\n",
       "       'NumDealsPurchases', 'NumWebPurchases', 'NumCatalogPurchases',\n",
       "       'NumStorePurchases', 'NumWebVisitsMonth', 'AcceptedCmp3',\n",
       "       'AcceptedCmp4', 'AcceptedCmp5', 'AcceptedCmp1', 'AcceptedCmp2',\n",
       "       'Complain', 'Response', 'age'],\n",
       "      dtype='object')"
      ]
     },
     "execution_count": 20,
     "metadata": {},
     "output_type": "execute_result"
    }
   ],
   "source": [
    "df.columns"
   ]
  },
  {
   "cell_type": "markdown",
   "id": "4225ced7",
   "metadata": {
    "id": "4225ced7"
   },
   "source": [
    "### 12. Extract 'age' using the column 'Year_Birth' and then drop the column 'Year_birth'"
   ]
  },
  {
   "cell_type": "code",
   "execution_count": 17,
   "id": "d517611e",
   "metadata": {
    "id": "d517611e"
   },
   "outputs": [],
   "source": [
    "df['age'] = 2022 - df['Year_Birth']"
   ]
  },
  {
   "cell_type": "code",
   "execution_count": 27,
   "id": "f9ba2168",
   "metadata": {},
   "outputs": [],
   "source": [
    "df = df.drop(['Year_Birth'], axis = 1)"
   ]
  },
  {
   "cell_type": "markdown",
   "id": "f2d3c92d",
   "metadata": {
    "id": "f2d3c92d"
   },
   "source": [
    "### 13. Encode the categorical variables in the dataset"
   ]
  },
  {
   "cell_type": "code",
   "execution_count": 43,
   "id": "030cfc32",
   "metadata": {
    "id": "030cfc32"
   },
   "outputs": [],
   "source": [
    "cat = ['Education', 'Marital_Status']\n",
    "lbl = LabelEncoder()\n",
    "for i in cat:\n",
    "    df[i]=df[[i]].apply(lbl.fit_transform)"
   ]
  },
  {
   "cell_type": "markdown",
   "id": "9242e36d",
   "metadata": {
    "id": "9242e36d"
   },
   "source": [
    "### 14. Standardize the columns, so that values are in a particular range"
   ]
  },
  {
   "cell_type": "code",
   "execution_count": 44,
   "id": "72475b68",
   "metadata": {
    "id": "72475b68"
   },
   "outputs": [],
   "source": [
    "df1 = df.copy()\n",
    "scaled_features = StandardScaler().fit_transform(df1.values)\n",
    "scaled_features_df = pd.DataFrame(scaled_features, index = df1.index, columns = df1.columns)"
   ]
  },
  {
   "cell_type": "code",
   "execution_count": 45,
   "id": "3cd208e3",
   "metadata": {},
   "outputs": [
    {
     "data": {
      "text/html": [
       "<div>\n",
       "<style scoped>\n",
       "    .dataframe tbody tr th:only-of-type {\n",
       "        vertical-align: middle;\n",
       "    }\n",
       "\n",
       "    .dataframe tbody tr th {\n",
       "        vertical-align: top;\n",
       "    }\n",
       "\n",
       "    .dataframe thead th {\n",
       "        text-align: right;\n",
       "    }\n",
       "</style>\n",
       "<table border=\"1\" class=\"dataframe\">\n",
       "  <thead>\n",
       "    <tr style=\"text-align: right;\">\n",
       "      <th></th>\n",
       "      <th>Education</th>\n",
       "      <th>Marital_Status</th>\n",
       "      <th>Income</th>\n",
       "      <th>Kidhome</th>\n",
       "      <th>Teenhome</th>\n",
       "      <th>Recency</th>\n",
       "      <th>MntWines</th>\n",
       "      <th>MntFruits</th>\n",
       "      <th>MntMeatProducts</th>\n",
       "      <th>MntFishProducts</th>\n",
       "      <th>...</th>\n",
       "      <th>NumStorePurchases</th>\n",
       "      <th>NumWebVisitsMonth</th>\n",
       "      <th>AcceptedCmp3</th>\n",
       "      <th>AcceptedCmp4</th>\n",
       "      <th>AcceptedCmp5</th>\n",
       "      <th>AcceptedCmp1</th>\n",
       "      <th>AcceptedCmp2</th>\n",
       "      <th>Complain</th>\n",
       "      <th>Response</th>\n",
       "      <th>age</th>\n",
       "    </tr>\n",
       "  </thead>\n",
       "  <tbody>\n",
       "    <tr>\n",
       "      <th>0</th>\n",
       "      <td>-0.350141</td>\n",
       "      <td>0.251004</td>\n",
       "      <td>0.235696</td>\n",
       "      <td>-0.825218</td>\n",
       "      <td>-0.929894</td>\n",
       "      <td>0.307039</td>\n",
       "      <td>0.983781</td>\n",
       "      <td>1.551577</td>\n",
       "      <td>1.679702</td>\n",
       "      <td>2.462147</td>\n",
       "      <td>...</td>\n",
       "      <td>-0.550785</td>\n",
       "      <td>0.693904</td>\n",
       "      <td>-0.28014</td>\n",
       "      <td>-0.28383</td>\n",
       "      <td>-0.28014</td>\n",
       "      <td>-0.262111</td>\n",
       "      <td>-0.11651</td>\n",
       "      <td>-0.097282</td>\n",
       "      <td>2.388846</td>\n",
       "      <td>0.985345</td>\n",
       "    </tr>\n",
       "    <tr>\n",
       "      <th>1</th>\n",
       "      <td>-0.350141</td>\n",
       "      <td>0.251004</td>\n",
       "      <td>-0.235454</td>\n",
       "      <td>1.032559</td>\n",
       "      <td>0.906934</td>\n",
       "      <td>-0.383664</td>\n",
       "      <td>-0.870479</td>\n",
       "      <td>-0.636301</td>\n",
       "      <td>-0.713225</td>\n",
       "      <td>-0.650449</td>\n",
       "      <td>...</td>\n",
       "      <td>-1.166125</td>\n",
       "      <td>-0.130463</td>\n",
       "      <td>-0.28014</td>\n",
       "      <td>-0.28383</td>\n",
       "      <td>-0.28014</td>\n",
       "      <td>-0.262111</td>\n",
       "      <td>-0.11651</td>\n",
       "      <td>-0.097282</td>\n",
       "      <td>-0.418612</td>\n",
       "      <td>1.235733</td>\n",
       "    </tr>\n",
       "    <tr>\n",
       "      <th>2</th>\n",
       "      <td>-0.350141</td>\n",
       "      <td>1.180340</td>\n",
       "      <td>0.773999</td>\n",
       "      <td>-0.825218</td>\n",
       "      <td>-0.929894</td>\n",
       "      <td>-0.798086</td>\n",
       "      <td>0.362723</td>\n",
       "      <td>0.570804</td>\n",
       "      <td>-0.177032</td>\n",
       "      <td>1.345274</td>\n",
       "      <td>...</td>\n",
       "      <td>1.295237</td>\n",
       "      <td>-0.542647</td>\n",
       "      <td>-0.28014</td>\n",
       "      <td>-0.28383</td>\n",
       "      <td>-0.28014</td>\n",
       "      <td>-0.262111</td>\n",
       "      <td>-0.11651</td>\n",
       "      <td>-0.097282</td>\n",
       "      <td>-0.418612</td>\n",
       "      <td>0.317643</td>\n",
       "    </tr>\n",
       "  </tbody>\n",
       "</table>\n",
       "<p>3 rows × 25 columns</p>\n",
       "</div>"
      ],
      "text/plain": [
       "   Education  Marital_Status    Income   Kidhome  Teenhome   Recency  \\\n",
       "0  -0.350141        0.251004  0.235696 -0.825218 -0.929894  0.307039   \n",
       "1  -0.350141        0.251004 -0.235454  1.032559  0.906934 -0.383664   \n",
       "2  -0.350141        1.180340  0.773999 -0.825218 -0.929894 -0.798086   \n",
       "\n",
       "   MntWines  MntFruits  MntMeatProducts  MntFishProducts  ...  \\\n",
       "0  0.983781   1.551577         1.679702         2.462147  ...   \n",
       "1 -0.870479  -0.636301        -0.713225        -0.650449  ...   \n",
       "2  0.362723   0.570804        -0.177032         1.345274  ...   \n",
       "\n",
       "   NumStorePurchases  NumWebVisitsMonth  AcceptedCmp3  AcceptedCmp4  \\\n",
       "0          -0.550785           0.693904      -0.28014      -0.28383   \n",
       "1          -1.166125          -0.130463      -0.28014      -0.28383   \n",
       "2           1.295237          -0.542647      -0.28014      -0.28383   \n",
       "\n",
       "   AcceptedCmp5  AcceptedCmp1  AcceptedCmp2  Complain  Response       age  \n",
       "0      -0.28014     -0.262111      -0.11651 -0.097282  2.388846  0.985345  \n",
       "1      -0.28014     -0.262111      -0.11651 -0.097282 -0.418612  1.235733  \n",
       "2      -0.28014     -0.262111      -0.11651 -0.097282 -0.418612  0.317643  \n",
       "\n",
       "[3 rows x 25 columns]"
      ]
     },
     "execution_count": 45,
     "metadata": {},
     "output_type": "execute_result"
    }
   ],
   "source": [
    "scaled_features_df.head(3)"
   ]
  },
  {
   "cell_type": "markdown",
   "id": "d063d2e2",
   "metadata": {
    "id": "d063d2e2"
   },
   "source": [
    "### 15. Apply PCA on the above dataset and determine the number of PCA components to be used so that 90-95% of the variance in data is explained by the same."
   ]
  },
  {
   "cell_type": "code",
   "execution_count": 41,
   "id": "6df3c70e",
   "metadata": {
    "id": "6df3c70e"
   },
   "outputs": [
    {
     "data": {
      "text/plain": [
       "array([[ 1.00044663e+00,  7.09359926e-03,  1.20032717e-01,\n",
       "        -4.55846687e-02,  1.18537895e-01, -1.17336854e-02,\n",
       "         1.97663931e-01, -8.04479228e-02,  3.36401826e-02,\n",
       "        -1.12272706e-01, -1.05263841e-01, -9.55315770e-02,\n",
       "         3.00883137e-02,  8.19442467e-02,  7.08136347e-02,\n",
       "         7.05142844e-02, -4.02988173e-02,  5.83883041e-03,\n",
       "         5.32894097e-02,  3.33606497e-02, -1.08496219e-02,\n",
       "         2.13783967e-02, -5.05625191e-02,  9.08600553e-02,\n",
       "         1.71466853e-01],\n",
       "       [ 7.09359926e-03,  1.00044663e+00,  2.11543904e-02,\n",
       "        -2.25633587e-02, -3.59761188e-03,  1.41648789e-02,\n",
       "         8.20842851e-03,  5.93412251e-04,  3.07031169e-02,\n",
       "         3.58238734e-02,  1.73894770e-02,  1.68900885e-03,\n",
       "        -2.17814143e-02, -1.89493823e-03,  1.51319349e-02,\n",
       "         1.41215486e-03, -3.12239808e-02, -2.71253859e-02,\n",
       "         1.43874748e-02,  1.28225854e-02, -1.71048114e-02,\n",
       "         1.84250307e-02, -5.72028181e-03, -1.14083465e-02,\n",
       "         6.06069703e-02],\n",
       "       [ 1.20032717e-01,  2.11543904e-02,  1.00044663e+00,\n",
       "        -4.25516427e-01,  1.89739620e-02, -4.06259704e-03,\n",
       "         5.77160739e-01,  4.28982129e-01,  5.78063520e-01,\n",
       "         4.37759466e-01,  4.36325378e-01,  3.22082123e-01,\n",
       "        -8.23515969e-02,  3.80723696e-01,  5.87088056e-01,\n",
       "         5.26834980e-01, -5.50030538e-01, -1.60708290e-02,\n",
       "         1.82799786e-01,  3.35042160e-01,  2.75013335e-01,\n",
       "         8.76200734e-02, -2.71990386e-02,  1.32926749e-01,\n",
       "         1.60971069e-01],\n",
       "       [-4.55846687e-02, -2.25633587e-02, -4.25516427e-01,\n",
       "         1.00044663e+00, -3.61492870e-02,  8.83067651e-03,\n",
       "        -4.96518587e-01, -3.72747856e-01, -4.37324717e-01,\n",
       "        -3.87817089e-01, -3.70838584e-01, -3.49750737e-01,\n",
       "         2.21896895e-01, -3.61808738e-01, -5.02461536e-01,\n",
       "        -4.99905737e-01,  4.48046223e-01,  1.46809329e-02,\n",
       "        -1.61672660e-01, -2.05725573e-01, -1.72415548e-01,\n",
       "        -8.17528789e-02,  4.02244659e-02, -8.00435160e-02,\n",
       "        -2.30278341e-01],\n",
       "       [ 1.18537895e-01, -3.59761188e-03,  1.89739620e-02,\n",
       "        -3.61492870e-02,  1.00044663e+00,  1.62049769e-02,\n",
       "         4.84856984e-03, -1.76842609e-01, -2.61276154e-01,\n",
       "        -2.04278512e-01, -1.62547677e-01, -2.17349723e-02,\n",
       "         3.87914246e-01,  1.55569213e-01, -1.10818037e-01,\n",
       "         5.07178776e-02,  1.34943797e-01, -4.26959811e-02,\n",
       "         3.89037925e-02, -1.91135083e-01, -1.40152113e-01,\n",
       "        -1.56118298e-02,  3.13910788e-03, -1.54514570e-01,\n",
       "         3.52268696e-01],\n",
       "       [-1.17336854e-02,  1.41648789e-02, -4.06259704e-03,\n",
       "         8.83067651e-03,  1.62049769e-02,  1.00044663e+00,\n",
       "         1.60710771e-02, -4.30756462e-03,  2.30663484e-02,\n",
       "         1.07944935e-03,  2.26797308e-02,  1.67007272e-02,\n",
       "        -1.09885735e-03, -1.07310773e-02,  2.51217067e-02,\n",
       "         7.99192352e-04, -2.14542684e-02, -3.30053252e-02,\n",
       "         1.88340262e-02,  1.28966919e-04, -1.92913773e-02,\n",
       "        -1.78212325e-03,  1.32369878e-02, -1.98525274e-01,\n",
       "         1.98799637e-02],\n",
       "       [ 1.97663931e-01,  8.20842851e-03,  5.77160739e-01,\n",
       "        -4.96518587e-01,  4.84856984e-03,  1.60710771e-02,\n",
       "         1.00044663e+00,  3.89810704e-01,  5.62917817e-01,\n",
       "         3.99931202e-01,  3.86753812e-01,  3.87688755e-01,\n",
       "         1.09447580e-02,  5.42506971e-01,  6.35509448e-01,\n",
       "         6.42387218e-01, -3.20796010e-01,  6.22295678e-02,\n",
       "         3.73452743e-01,  4.72824346e-01,  3.54291365e-01,\n",
       "         2.05999028e-01, -3.90245630e-02,  2.47364930e-01,\n",
       "         1.57842989e-01],\n",
       "       [-8.04479228e-02,  5.93412251e-04,  4.28982129e-01,\n",
       "        -3.72747856e-01, -1.76842609e-01, -4.30756462e-03,\n",
       "         3.89810704e-01,  1.00044663e+00,  5.43347126e-01,\n",
       "         5.95069166e-01,  5.67417251e-01,  3.93170542e-01,\n",
       "        -1.32173219e-01,  2.96867095e-01,  4.88135251e-01,\n",
       "         4.61964348e-01, -4.18569838e-01,  1.47334338e-02,\n",
       "         1.01567163e-02,  2.15929184e-01,  1.94835126e-01,\n",
       "        -9.77758863e-03, -5.16859525e-03,  1.25344766e-01,\n",
       "         1.79252427e-02],\n",
       "       [ 3.36401826e-02,  3.07031169e-02,  5.78063520e-01,\n",
       "        -4.37324717e-01, -2.61276154e-01,  2.30663484e-02,\n",
       "         5.62917817e-01,  5.43347126e-01,  1.00044663e+00,\n",
       "         5.68655994e-01,  5.24080181e-01,  3.50765116e-01,\n",
       "        -1.22470075e-01,  2.93892686e-01,  7.24149872e-01,\n",
       "         4.79873010e-01, -5.39710766e-01,  1.82799541e-02,\n",
       "         1.02958176e-01,  3.73935789e-01,  3.09899074e-01,\n",
       "         4.30526456e-02, -2.34935417e-02,  2.36440674e-01,\n",
       "         3.08861876e-02],\n",
       "       [-1.12272706e-01,  3.58238734e-02,  4.37759466e-01,\n",
       "        -3.87817089e-01, -2.04278512e-01,  1.07944935e-03,\n",
       "         3.99931202e-01,  5.95069166e-01,  5.68655994e-01,\n",
       "         1.00044663e+00,  5.80129067e-01,  4.23063669e-01,\n",
       "        -1.39422869e-01,  2.93811914e-01,  5.34717049e-01,\n",
       "         4.60060011e-01, -4.46201852e-01,  3.57385570e-04,\n",
       "         1.68503211e-02,  1.99666915e-01,  2.60878562e-01,\n",
       "         2.57785546e-03, -2.09622015e-02,  1.11380518e-01,\n",
       "         4.16439684e-02],\n",
       "       [-1.05263841e-01,  1.73894770e-02,  4.36325378e-01,\n",
       "        -3.70838584e-01, -1.62547677e-01,  2.26797308e-02,\n",
       "         3.86753812e-01,  5.67417251e-01,  5.24080181e-01,\n",
       "         5.80129067e-01,  1.00044663e+00,  3.69889430e-01,\n",
       "        -1.20153907e-01,  3.48699953e-01,  4.91143188e-01,\n",
       "         4.48956380e-01, -4.23483194e-01,  1.53062883e-03,\n",
       "         2.86534998e-02,  2.59706351e-01,  2.41925821e-01,\n",
       "         9.98969163e-03, -2.24950018e-02,  1.17424322e-01,\n",
       "         1.81407051e-02],\n",
       "       [-9.55315770e-02,  1.68900885e-03,  3.22082123e-01,\n",
       "        -3.49750737e-01, -2.17349723e-02,  1.67007272e-02,\n",
       "         3.87688755e-01,  3.93170542e-01,  3.50765116e-01,\n",
       "         4.23063669e-01,  3.69889430e-01,  1.00044663e+00,\n",
       "         4.91070798e-02,  4.22024303e-01,  4.37892932e-01,\n",
       "         3.81848482e-01, -2.50830716e-01,  1.23146035e-01,\n",
       "         2.22779229e-02,  1.81102006e-01,  1.66470418e-01,\n",
       "         5.00126143e-02, -3.08750100e-02,  1.39912598e-01,\n",
       "         6.18457914e-02],\n",
       "       [ 3.00883137e-02, -2.17814143e-02, -8.23515969e-02,\n",
       "         2.21896895e-01,  3.87914246e-01, -1.09885735e-03,\n",
       "         1.09447580e-02, -1.32173219e-01, -1.22470075e-01,\n",
       "        -1.39422869e-01, -1.20153907e-01,  4.91070798e-02,\n",
       "         1.00044663e+00,  2.34289281e-01, -8.62109502e-03,\n",
       "         6.89095893e-02,  3.47788621e-01, -2.31192577e-02,\n",
       "         1.56012263e-02, -1.83329706e-01, -1.23299478e-01,\n",
       "        -3.77115939e-02,  4.19836440e-04,  2.23931296e-03,\n",
       "         6.08727256e-02],\n",
       "       [ 8.19442467e-02, -1.89493823e-03,  3.80723696e-01,\n",
       "        -3.61808738e-01,  1.55569213e-01, -1.07310773e-02,\n",
       "         5.42506971e-01,  2.96867095e-01,  2.93892686e-01,\n",
       "         2.93811914e-01,  3.48699953e-01,  4.22024303e-01,\n",
       "         2.34289281e-01,  1.00044663e+00,  3.78544542e-01,\n",
       "         5.02937939e-01, -5.58712742e-02,  4.21943619e-02,\n",
       "         1.55972452e-01,  1.38745981e-01,  1.55212119e-01,\n",
       "         3.42030047e-02, -1.63174795e-02,  1.48796012e-01,\n",
       "         1.45104917e-01],\n",
       "       [ 7.08136347e-02,  1.51319349e-02,  5.87088056e-01,\n",
       "        -5.02461536e-01, -1.10818037e-01,  2.51217067e-02,\n",
       "         6.35509448e-01,  4.88135251e-01,  7.24149872e-01,\n",
       "         5.34717049e-01,  4.91143188e-01,  4.37892932e-01,\n",
       "        -8.62109502e-03,  3.78544542e-01,  1.00044663e+00,\n",
       "         5.18969966e-01, -5.20596124e-01,  1.04776301e-01,\n",
       "         1.39309454e-01,  3.22465454e-01,  3.08234174e-01,\n",
       "         9.98969559e-02, -2.04622659e-02,  2.20909039e-01,\n",
       "         1.21328797e-01],\n",
       "       [ 7.05142844e-02,  1.41215486e-03,  5.26834980e-01,\n",
       "        -4.99905737e-01,  5.07178776e-02,  7.99192352e-04,\n",
       "         6.42387218e-01,  4.61964348e-01,  4.79873010e-01,\n",
       "         4.60060011e-01,  4.48956380e-01,  3.81848482e-01,\n",
       "         6.89095893e-02,  5.02937939e-01,  5.18969966e-01,\n",
       "         1.00044663e+00, -4.28663895e-01, -6.76075625e-02,\n",
       "         1.79459566e-01,  2.14886104e-01,  1.83330566e-01,\n",
       "         8.52274790e-02, -1.65316096e-02,  3.93810243e-02,\n",
       "         1.28329345e-01],\n",
       "       [-4.02988173e-02, -3.12239808e-02, -5.50030538e-01,\n",
       "         4.48046223e-01,  1.34943797e-01, -2.14542684e-02,\n",
       "        -3.20796010e-01, -4.18569838e-01, -5.39710766e-01,\n",
       "        -4.46201852e-01, -4.23483194e-01, -2.50830716e-01,\n",
       "         3.47788621e-01, -5.58712742e-02, -5.20596124e-01,\n",
       "        -4.28663895e-01,  1.00044663e+00,  6.12384905e-02,\n",
       "        -3.21400411e-02, -2.78236747e-01, -1.92587518e-01,\n",
       "        -7.19961588e-03,  1.97773363e-02, -3.98837924e-03,\n",
       "        -1.21193363e-01],\n",
       "       [ 5.83883041e-03, -2.71253859e-02, -1.60708290e-02,\n",
       "         1.46809329e-02, -4.26959811e-02, -3.30053252e-02,\n",
       "         6.22295678e-02,  1.47334338e-02,  1.82799541e-02,\n",
       "         3.57385570e-04,  1.53062883e-03,  1.23146035e-01,\n",
       "        -2.31192577e-02,  4.21943619e-02,  1.04776301e-01,\n",
       "        -6.76075625e-02,  6.12384905e-02,  1.00044663e+00,\n",
       "        -7.95477799e-02,  8.03516878e-02,  9.47928511e-02,\n",
       "         7.20520853e-02,  8.41915612e-03,  2.54371842e-01,\n",
       "        -6.18020701e-02],\n",
       "       [ 5.32894097e-02,  1.43874748e-02,  1.82799786e-01,\n",
       "        -1.61672660e-01,  3.89037925e-02,  1.88340262e-02,\n",
       "         3.73452743e-01,  1.01567163e-02,  1.02958176e-01,\n",
       "         1.68503211e-02,  2.86534998e-02,  2.22779229e-02,\n",
       "         1.56012263e-02,  1.55972452e-01,  1.39309454e-01,\n",
       "         1.79459566e-01, -3.21400411e-02, -7.95477799e-02,\n",
       "         1.00044663e+00,  3.06662667e-01,  2.51412171e-01,\n",
       "         2.92340372e-01, -2.76238054e-02,  1.77097664e-01,\n",
       "         6.05366207e-02],\n",
       "       [ 3.33606497e-02,  1.28225854e-02,  3.35042160e-01,\n",
       "        -2.05725573e-01, -1.91135083e-01,  1.28966919e-04,\n",
       "         4.72824346e-01,  2.15929184e-01,  3.73935789e-01,\n",
       "         1.99666915e-01,  2.59706351e-01,  1.81102006e-01,\n",
       "        -1.83329706e-01,  1.38745981e-01,  3.22465454e-01,\n",
       "         2.14886104e-01, -2.78236747e-01,  8.03516878e-02,\n",
       "         3.06662667e-01,  1.00044663e+00,  4.03257702e-01,\n",
       "         2.21631947e-01, -9.42276414e-03,  3.26779828e-01,\n",
       "        -7.12572266e-03],\n",
       "       [-1.08496219e-02, -1.71048114e-02,  2.75013335e-01,\n",
       "        -1.72415548e-01, -1.40152113e-01, -1.92913773e-02,\n",
       "         3.54291365e-01,  1.94835126e-01,  3.09899074e-01,\n",
       "         2.60878562e-01,  2.41925821e-01,  1.66470418e-01,\n",
       "        -1.23299478e-01,  1.55212119e-01,  3.08234174e-01,\n",
       "         1.83330566e-01, -1.92587518e-01,  9.47928511e-02,\n",
       "         2.51412171e-01,  4.03257702e-01,  1.00044663e+00,\n",
       "         1.75392879e-01, -2.55100041e-02,  2.94112827e-01,\n",
       "         5.93296539e-03],\n",
       "       [ 2.13783967e-02,  1.84250307e-02,  8.76200734e-02,\n",
       "        -8.17528789e-02, -1.56118298e-02, -1.78212325e-03,\n",
       "         2.05999028e-01, -9.77758863e-03,  4.30526456e-02,\n",
       "         2.57785546e-03,  9.98969163e-03,  5.00126143e-02,\n",
       "        -3.77115939e-02,  3.42030047e-02,  9.98969559e-02,\n",
       "         8.52274790e-02, -7.19961588e-03,  7.20520853e-02,\n",
       "         2.92340372e-01,  2.21631947e-01,  1.75392879e-01,\n",
       "         1.00044663e+00, -1.13393827e-02,  1.69368272e-01,\n",
       "         6.54220470e-03],\n",
       "       [-5.05625191e-02, -5.72028181e-03, -2.71990386e-02,\n",
       "         4.02244659e-02,  3.13910788e-03,  1.32369878e-02,\n",
       "        -3.90245630e-02, -5.16859525e-03, -2.34935417e-02,\n",
       "        -2.09622015e-02, -2.24950018e-02, -3.08750100e-02,\n",
       "         4.19836440e-04, -1.63174795e-02, -2.04622659e-02,\n",
       "        -1.65316096e-02,  1.97773363e-02,  8.41915612e-03,\n",
       "        -2.76238054e-02, -9.42276414e-03, -2.55100041e-02,\n",
       "        -1.13393827e-02,  1.00044663e+00, -1.70772633e-03,\n",
       "         3.01410006e-02],\n",
       "       [ 9.08600553e-02, -1.14083465e-02,  1.32926749e-01,\n",
       "        -8.00435160e-02, -1.54514570e-01, -1.98525274e-01,\n",
       "         2.47364930e-01,  1.25344766e-01,  2.36440674e-01,\n",
       "         1.11380518e-01,  1.17424322e-01,  1.39912598e-01,\n",
       "         2.23931296e-03,  1.48796012e-01,  2.20909039e-01,\n",
       "         3.93810243e-02, -3.98837924e-03,  2.54371842e-01,\n",
       "         1.77097664e-01,  3.26779828e-01,  2.94112827e-01,\n",
       "         1.69368272e-01, -1.70772633e-03,  1.00044663e+00,\n",
       "        -2.13347389e-02],\n",
       "       [ 1.71466853e-01,  6.06069703e-02,  1.60971069e-01,\n",
       "        -2.30278341e-01,  3.52268696e-01,  1.98799637e-02,\n",
       "         1.57842989e-01,  1.79252427e-02,  3.08861876e-02,\n",
       "         4.16439684e-02,  1.81407051e-02,  6.18457914e-02,\n",
       "         6.08727256e-02,  1.45104917e-01,  1.21328797e-01,\n",
       "         1.28329345e-01, -1.21193363e-01, -6.18020701e-02,\n",
       "         6.05366207e-02, -7.12572266e-03,  5.93296539e-03,\n",
       "         6.54220470e-03,  3.01410006e-02, -2.13347389e-02,\n",
       "         1.00044663e+00]])"
      ]
     },
     "execution_count": 41,
     "metadata": {},
     "output_type": "execute_result"
    }
   ],
   "source": [
    "cov_matrix = np.cov(scaled_features.T)\n",
    "cov_matrix"
   ]
  },
  {
   "cell_type": "code",
   "execution_count": 42,
   "id": "4c6714ff",
   "metadata": {
    "scrolled": false
   },
   "outputs": [
    {
     "name": "stdout",
     "output_type": "stream",
     "text": [
      "eig values: \n",
      " [6.52077723 2.07952552 1.91659732 1.45195471 1.17304869 1.03266961\n",
      " 1.00392603 0.99874895 0.94636578 0.8331665  0.19258652 0.74661965\n",
      " 0.69418358 0.24392067 0.30347969 0.31131451 0.63693394 0.60971792\n",
      " 0.58570395 0.53154411 0.51722965 0.46419369 0.43241172 0.37688946\n",
      " 0.4076563 ]\n",
      "\n",
      "\n",
      "eig vectors: \n",
      " [[ 1.97523606e-02 -2.39909360e-01 -1.23776460e-01 -2.64585145e-01\n",
      "  -4.68111656e-01 -2.13133478e-01  2.08458273e-01 -1.66918991e-01\n",
      "   3.91809498e-01  2.29916489e-01  7.06713152e-02 -4.91455519e-02\n",
      "   3.02763223e-01 -4.67211026e-02  4.33665357e-02  8.47820256e-02\n",
      "   2.68257107e-01 -5.70253822e-02 -2.44020801e-02  2.88634770e-01\n",
      "   6.72533782e-02 -1.15909350e-01  1.64428321e-01  6.19671343e-03\n",
      "   9.09652448e-04]\n",
      " [ 1.03360960e-02 -5.09083294e-03  2.34387047e-02 -1.33164010e-01\n",
      "  -8.32075360e-03  3.23230296e-01 -7.73013746e-01 -3.88357866e-01\n",
      "   3.20614917e-01  5.09869917e-02  1.25945717e-03 -5.28383699e-02\n",
      "  -1.04836065e-01  1.36562228e-02  2.46329242e-03 -8.18735586e-03\n",
      "   7.04027053e-02  5.45405104e-03  9.82294304e-03  7.03954165e-05\n",
      "   4.50239945e-02 -2.58870764e-02 -2.25102489e-02 -3.06921140e-02\n",
      "   8.49034111e-05]\n",
      " [ 2.91206741e-01 -7.83679824e-02  3.11750785e-02 -1.45404949e-01\n",
      "  -7.35066194e-02 -4.25919854e-02  4.88482327e-02  3.08765708e-02\n",
      "   8.33134976e-02 -2.96664188e-02  8.14724132e-02  2.02117346e-01\n",
      "  -2.74770069e-01  2.01904238e-02  5.29579195e-01  4.66361478e-02\n",
      "   4.02969989e-02 -3.86218980e-02 -1.08444091e-01  2.52080857e-02\n",
      "   1.13808384e-01  5.84809941e-01 -2.13107736e-01  5.04658388e-02\n",
      "  -2.10029271e-01]\n",
      " [-2.55189904e-01  8.33688965e-02 -9.56851842e-02  1.80766372e-01\n",
      "   8.19050794e-02 -5.38522081e-02  4.06932548e-02 -4.19297322e-02\n",
      "   3.17350426e-01 -1.91333700e-01  4.17192515e-02  3.41106369e-01\n",
      "   2.59358550e-02  5.23583411e-02 -3.62331725e-01 -2.99626624e-01\n",
      "   1.19962649e-01 -7.09911557e-02 -2.41967301e-01  2.96757666e-01\n",
      "  -2.55239341e-01  3.31135474e-01 -1.88170993e-01  2.68885039e-02\n",
      "   1.27324255e-01]\n",
      " [-5.69136698e-02 -5.20028081e-01  1.16024203e-01 -4.40591874e-02\n",
      "  -4.48558452e-02  1.13834818e-01 -8.16633356e-03  3.58715512e-02\n",
      "  -2.14934975e-01 -1.91246568e-01  6.04091398e-02  1.83033296e-01\n",
      "  -2.25402411e-01 -9.06681878e-02 -2.31228788e-01 -2.57542812e-01\n",
      "   1.18889168e-01  5.18381024e-02 -2.14176369e-01  7.59174198e-02\n",
      "   4.51915729e-01 -1.87135246e-01  5.81566734e-02  2.04877783e-01\n",
      "  -2.06878809e-01]\n",
      " [ 8.95822861e-04 -1.67077604e-02  1.11762479e-01 -1.62153789e-01\n",
      "   4.13000683e-01  2.56369417e-01  4.64308391e-01 -5.96196916e-01\n",
      "   1.33790559e-01 -1.18405388e-01  5.26182818e-03 -6.36935557e-02\n",
      "   1.80657238e-01  1.20999743e-02  2.32425553e-02  2.03167087e-02\n",
      "  -1.17269032e-01  4.86692463e-02 -1.51880293e-03 -8.72982270e-02\n",
      "   2.05145789e-01  2.65622115e-02 -1.12696886e-01  2.55490068e-02\n",
      "   6.30795278e-02]\n",
      " [ 3.06930070e-01 -2.03316156e-01 -1.64023748e-01 -2.78443861e-02\n",
      "   4.32241420e-02 -5.54315828e-02  6.56917718e-02 -3.25273258e-02\n",
      "   9.88058191e-02  1.09858285e-01 -6.80247318e-01 -1.38483444e-01\n",
      "  -8.94263867e-02  2.41034916e-01  1.36879304e-02 -4.14312118e-01\n",
      "   6.64116858e-03  8.82261841e-04 -5.73490987e-03 -9.27449080e-02\n",
      "  -2.07722379e-01 -9.71030878e-02 -9.75514990e-02  1.05590092e-01\n",
      "  -5.34611119e-02]\n",
      " [ 2.66679373e-01  1.43029904e-01  1.82938409e-01  1.30388094e-01\n",
      "   2.27474320e-02 -6.92863878e-03 -3.69020260e-02  5.45222834e-02\n",
      "   8.90481997e-03 -3.48236440e-03 -2.07989279e-02  6.50805966e-02\n",
      "   2.46572781e-01  9.95963140e-02 -3.67283245e-02  1.03526289e-01\n",
      "   3.74641355e-02  2.37194787e-01 -2.72977902e-01  2.37248236e-01\n",
      "   4.65202687e-02 -2.91503311e-01 -4.18627732e-01 -3.92370544e-01\n",
      "  -4.00877410e-01]\n",
      " [ 3.12361113e-01  1.26675456e-01  2.74849418e-02 -1.02458359e-02\n",
      "  -6.08286167e-02 -4.58989813e-02  4.58598818e-02 -3.85602782e-02\n",
      "   2.10857531e-01 -4.00996687e-02 -2.23918241e-02  1.91543584e-01\n",
      "  -3.02452094e-02 -7.43276733e-01 -1.85642967e-01 -1.66757147e-01\n",
      "  -2.21761038e-01  2.45046469e-02  1.86027712e-01 -1.41146304e-01\n",
      "  -1.05307023e-01 -2.38809850e-02  9.56696575e-02 -2.70813309e-02\n",
      "  -2.26645263e-01]\n",
      " [ 2.76328962e-01  1.55954731e-01  1.83394786e-01  1.13793489e-01\n",
      "   4.96775825e-02  1.72398741e-02 -9.17740578e-02  2.03714909e-02\n",
      "  -2.06499407e-02 -8.15309470e-02 -1.20716338e-02  9.56186002e-02\n",
      "   2.35159170e-01  3.53904211e-02  1.89835316e-02  1.81578663e-01\n",
      "   9.48323772e-02  1.59966799e-01  7.73899156e-02  2.08317281e-01\n",
      "  -8.54593276e-02 -7.28932830e-02 -8.40966523e-03  7.98187815e-01\n",
      "   3.36203634e-02]\n",
      " [ 2.68604558e-01  1.29832428e-01  1.58663711e-01  1.19994187e-01\n",
      "   8.98675239e-02 -1.36643932e-03 -5.55266086e-02  2.34846060e-02\n",
      "   9.66403911e-04 -9.86712973e-02 -5.33084853e-02  4.08895251e-02\n",
      "   1.96910460e-01  1.43052814e-02  1.45690637e-01 -2.05737794e-01\n",
      "   1.69163820e-01  2.10781684e-01 -3.86466588e-01 -7.40382378e-02\n",
      "   1.05737476e-01  1.29303482e-01  6.21825564e-01 -2.01700873e-01\n",
      "   2.44526534e-01]\n",
      " [ 2.20733334e-01 -5.86648863e-02  1.00496284e-01  3.15834706e-01\n",
      "   5.65524976e-02  1.10861725e-01 -3.31920648e-02 -1.24984694e-01\n",
      "  -2.26403392e-01  6.94583805e-02  5.15107290e-03 -1.63599771e-01\n",
      "   6.94646014e-02 -1.01795405e-01  8.25689067e-02 -1.39801244e-01\n",
      "  -8.81130668e-02 -6.23256156e-01  1.21067849e-01  4.97671613e-01\n",
      "   6.65709065e-02  4.54646000e-02  5.67006907e-02 -1.01412383e-01\n",
      "   5.29525929e-02]\n",
      " [-5.55630668e-02 -4.29718055e-01  3.92687406e-02  3.85536783e-01\n",
      "   1.52313650e-01 -9.03794348e-02 -2.11769317e-02 -7.65780031e-03\n",
      "   2.78327456e-01 -1.43841539e-01 -1.87746837e-01  3.90993386e-01\n",
      "  -7.03899791e-02  1.80085563e-03  2.32707884e-01  3.98695045e-01\n",
      "  -1.38517220e-01 -1.89734064e-02  9.69578843e-02 -1.17740511e-02\n",
      "  -8.19996781e-02 -2.11093690e-01  1.06852549e-01 -1.22130140e-01\n",
      "   1.38366701e-01]\n",
      " [ 2.10413486e-01 -3.32310223e-01  3.54905488e-02  2.78123744e-01\n",
      "   8.15533859e-02 -5.00930579e-02 -2.46964581e-02 -1.69404092e-04\n",
      "   5.65107831e-02  1.04631759e-01  5.25937731e-02 -3.71381136e-01\n",
      "   7.73160062e-02 -2.22711036e-02 -4.45887071e-01  3.39703557e-01\n",
      "   1.72305528e-01 -1.55537505e-02 -8.38774565e-02 -2.57631890e-01\n",
      "  -3.96401594e-02  3.98310940e-01 -7.37568134e-03  2.10524458e-03\n",
      "  -1.33311963e-01]\n",
      " [ 3.18681732e-01 -1.75830993e-02  1.85457840e-02  3.29660167e-02\n",
      "  -8.78599303e-02  2.40773094e-02  7.82671163e-02 -8.47852019e-02\n",
      "   8.72350495e-02  1.54906189e-02  4.34099017e-01  2.14766923e-01\n",
      "  -1.03939395e-01  5.55382309e-01 -2.02901882e-01 -1.54899630e-01\n",
      "  -1.99096428e-01 -5.16887987e-04  3.17144962e-01 -7.36996014e-02\n",
      "  -1.04474111e-01 -5.58715780e-02  2.37258984e-01 -6.34687326e-02\n",
      "  -1.68069207e-01]\n",
      " [ 2.82874947e-01 -1.84639425e-01  1.25643357e-01 -5.72368850e-03\n",
      "   1.08661920e-01 -1.00553042e-01  2.21891679e-03  8.78503804e-02\n",
      "   4.29375727e-02  2.18203962e-01  3.72188810e-01 -3.58401445e-02\n",
      "  -1.23680626e-01 -1.33635836e-01  4.65701599e-02 -1.97348679e-01\n",
      "   1.37266077e-01  7.74372417e-02 -2.73927178e-02 -1.06871733e-01\n",
      "  -6.97034027e-02 -2.02018958e-01 -3.80962608e-01 -3.30651115e-02\n",
      "   5.89904469e-01]\n",
      " [-2.48088041e-01 -1.74532765e-01 -1.60954192e-01  3.31008350e-01\n",
      "   1.47792617e-01 -2.16092267e-02 -5.08839722e-02 -2.91687402e-02\n",
      "   7.67130261e-02  9.05391391e-03  3.29517560e-01 -2.20087978e-01\n",
      "   2.52262137e-01 -8.36510189e-02  4.05064927e-01 -3.60165118e-01\n",
      "   5.81289302e-02  1.06367796e-01  6.47713966e-03 -1.37078717e-01\n",
      "  -1.93349891e-01 -6.98795123e-02  1.26673459e-02  1.26891110e-01\n",
      "  -3.56785522e-01]\n",
      " [ 2.02847318e-02  5.79917954e-02 -2.11939155e-01  3.66145266e-01\n",
      "  -3.77165711e-01  3.11014922e-01  1.92961843e-01 -3.66405800e-01\n",
      "  -2.52647584e-01  1.40538939e-01 -6.30394605e-03  8.03178662e-03\n",
      "  -3.29879756e-01 -9.34321734e-02  3.34463609e-02  8.61233895e-02\n",
      "   8.47549269e-02  3.56073020e-01 -8.81846217e-02  1.12955213e-01\n",
      "  -1.91582643e-01 -3.19872430e-03  1.28576326e-02 -1.20028735e-02\n",
      "   7.39627387e-02]\n",
      " [ 9.72257831e-02 -1.75727647e-01 -3.82079335e-01 -2.10957906e-01\n",
      "   3.67616940e-01 -6.80133821e-02 -7.96102849e-02  1.26282155e-01\n",
      "  -1.61054852e-02  2.73624988e-03  8.38938681e-02 -1.89570569e-01\n",
      "  -8.91527672e-02 -6.81139303e-02 -4.97473002e-02  6.57287061e-02\n",
      "  -2.73831881e-01  4.09680573e-01  6.46829969e-02  5.12753063e-01\n",
      "  -2.26635195e-02  1.01171411e-01  1.39217703e-01 -5.86165015e-02\n",
      "   3.18247792e-02]\n",
      " [ 1.93355012e-01  1.00592611e-01 -3.74159295e-01 -1.10205854e-01\n",
      "   7.14725026e-02  4.23347625e-02  4.70078684e-02 -3.42812968e-03\n",
      "   7.40276686e-02 -2.01849896e-01  1.86943528e-01 -8.79606615e-02\n",
      "  -1.79280685e-01 -3.11048072e-03  1.40328961e-02  2.02502151e-01\n",
      "  -9.56879093e-02 -3.77197806e-01 -5.59556740e-01 -1.07925769e-01\n",
      "  -1.86385021e-01 -2.99047468e-01  7.22549263e-02  1.41735271e-01\n",
      "  -5.74821081e-02]\n",
      " [ 1.71722063e-01  8.73024614e-02 -3.29063451e-01  3.94697489e-03\n",
      "   8.19262007e-02  3.92163935e-02  2.60837962e-02  2.61981182e-02\n",
      "  -3.18107886e-02 -5.17603544e-01  5.35324865e-04 -3.08297347e-02\n",
      "  -2.62453778e-02 -2.77613795e-02  1.77280225e-02  3.07014333e-02\n",
      "   6.12502671e-01 -2.60053459e-02  3.98329791e-01 -1.23742007e-02\n",
      "   7.55813604e-02 -7.12755304e-02 -4.97718588e-02 -1.55916169e-01\n",
      "   1.21276827e-02]\n",
      " [ 5.89377153e-02 -6.12725540e-02 -3.78521691e-01 -1.02489737e-01\n",
      "   2.46967678e-01  1.36579533e-01 -8.47485853e-02 -3.35188686e-02\n",
      "  -3.11984303e-01  4.69861363e-01 -1.06028370e-02  5.17314112e-01\n",
      "   3.06744488e-01 -4.12803357e-02 -4.23404772e-02  5.47190818e-02\n",
      "   1.73426399e-01 -1.06965584e-01 -1.08189643e-02 -1.33209845e-01\n",
      "  -3.10595960e-03  4.78554429e-02  7.20191154e-03 -1.32955505e-02\n",
      "  -5.20990566e-02]\n",
      " [-1.56076813e-02  1.22754419e-02  2.18173154e-02  2.79719130e-02\n",
      "   2.54060954e-02  7.18094895e-01  2.07933397e-01  5.16058761e-01\n",
      "   3.56616977e-01  1.69421638e-01 -1.43559221e-02 -5.23927555e-02\n",
      "  -1.33084483e-02 -5.58989989e-03  1.78839173e-02  5.40451803e-03\n",
      "   6.19699145e-02 -2.50386814e-02  4.35315472e-02  4.93239236e-02\n",
      "   4.25247433e-02 -1.36948844e-02  4.66813350e-02  7.47484337e-03\n",
      "  -8.64680420e-03]\n",
      " [ 1.09486706e-01  4.17864066e-02 -4.25295375e-01  2.61638791e-01\n",
      "  -2.88696819e-01  2.39233743e-02 -9.06672369e-02  6.33561041e-02\n",
      "   8.68249484e-02 -1.41661908e-01 -1.17889505e-02 -8.64786485e-03\n",
      "   2.92991051e-01  5.74800203e-02 -1.61332831e-02 -7.28163530e-02\n",
      "  -3.78491783e-01  4.43071647e-02 -7.38228319e-03 -1.48188076e-01\n",
      "   4.99293570e-01  8.43979494e-02 -2.06997460e-01  6.17133261e-02\n",
      "   2.18964035e-01]\n",
      " [ 5.73451560e-02 -3.44340676e-01  9.67851603e-02 -2.79431618e-01\n",
      "  -2.66195881e-01  2.95759275e-01 -6.35340735e-02  3.99196266e-02\n",
      "  -2.59469833e-01 -3.79510415e-01  1.47468822e-02  2.40283526e-02\n",
      "   3.72476985e-01 -2.87051133e-02  3.32148099e-02  1.04466704e-03\n",
      "  -1.69671334e-01  1.66369392e-02 -1.89715312e-02 -3.83389518e-02\n",
      "  -4.46638153e-01  1.14272687e-01 -7.93674547e-02 -1.05120471e-01\n",
      "   1.14561615e-01]]\n"
     ]
    }
   ],
   "source": [
    "eig_vals, eig_vectors = np.linalg.eig(cov_matrix)\n",
    "print('eig values:','\\n',eig_vals)\n",
    "print('\\n')\n",
    "print('eig vectors:', '\\n', eig_vectors)"
   ]
  },
  {
   "cell_type": "code",
   "execution_count": 39,
   "id": "6bd3e346",
   "metadata": {},
   "outputs": [
    {
     "name": "stdout",
     "output_type": "stream",
     "text": [
      "Explained variance: [26.07146468744724, 8.314388634405484, 7.662966797652211, 5.805226051721892, 4.690100025809265, 4.128834402369024, 4.013911390315904, 3.9932123035618132, 3.7837731732369653, 3.3311782086576445, 2.9851453426110073, 2.7754946971735266, 2.5465983751295154, 2.437782884715224, 2.341769913990333, 2.125227259934942, 2.0679949895029845, 1.8559458248579506, 1.7288747160161246, 1.629897242204393, 1.5068848430641966, 1.2447021319970286, 1.2133768436478618, 0.9752470937500403, 0.7700021662274208]\n",
      "cummulative variance explained: [ 26.07146469  34.38585332  42.04882012  47.85404617  52.5441462\n",
      "  56.6729806   60.68689199  64.68010429  68.46387747  71.79505568\n",
      "  74.78020102  77.55569571  80.10229409  82.54007697  84.88184689\n",
      "  87.00707415  89.07506914  90.93101496  92.65988968  94.28978692\n",
      "  95.79667176  97.0413739   98.25475074  99.22999783 100.        ]\n"
     ]
    }
   ],
   "source": [
    "total = sum(eig_vals)\n",
    "var_exp = [(i/total)*100 for i in sorted(eig_vals,reverse = True)]\n",
    "cum_var_exp = np.cumsum(var_exp)\n",
    "\n",
    "print('Explained variance:', var_exp)\n",
    "print('cummulative variance explained:', cum_var_exp)"
   ]
  },
  {
   "cell_type": "code",
   "execution_count": 52,
   "id": "04dff9b0",
   "metadata": {},
   "outputs": [
    {
     "data": {
      "image/png": "[encoded data removed]",
      "text/plain": [
       "<Figure size 640x480 with 1 Axes>"
      ]
     },
     "metadata": {},
     "output_type": "display_data"
    }
   ],
   "source": [
    "##Scree plot\n",
    "plt.bar(range(25),var_exp,align='center', color = 'lightgreen', edgecolor = 'black', label = 'Explained variance')\n",
    "plt.step(range(25), cum_var_exp,where='mid', color='red', label = 'Cummulative Explained Variance')\n",
    "plt.xlabel('principal Components')\n",
    "plt.ylabel('Explained variance ratio')\n",
    "plt.title('Scree Plot')\n",
    "plt.legend(loc = 'best')\n",
    "plt.show()"
   ]
  },
  {
   "cell_type": "markdown",
   "id": "b2df19d7",
   "metadata": {
    "id": "b2df19d7"
   },
   "source": [
    "### 16. Apply K-means clustering and segment the data (Use PCA transformed data for clustering)"
   ]
  },
  {
   "cell_type": "code",
   "execution_count": 56,
   "id": "a3a8bb4c",
   "metadata": {
    "id": "a3a8bb4c"
   },
   "outputs": [
    {
     "data": {
      "text/html": [
       "<div>\n",
       "<style scoped>\n",
       "    .dataframe tbody tr th:only-of-type {\n",
       "        vertical-align: middle;\n",
       "    }\n",
       "\n",
       "    .dataframe tbody tr th {\n",
       "        vertical-align: top;\n",
       "    }\n",
       "\n",
       "    .dataframe thead th {\n",
       "        text-align: right;\n",
       "    }\n",
       "</style>\n",
       "<table border=\"1\" class=\"dataframe\">\n",
       "  <thead>\n",
       "    <tr style=\"text-align: right;\">\n",
       "      <th></th>\n",
       "      <th>PC1</th>\n",
       "      <th>PC2</th>\n",
       "      <th>PC3</th>\n",
       "      <th>PC4</th>\n",
       "      <th>PC5</th>\n",
       "      <th>PC6</th>\n",
       "      <th>PC7</th>\n",
       "      <th>PC8</th>\n",
       "    </tr>\n",
       "  </thead>\n",
       "  <tbody>\n",
       "    <tr>\n",
       "      <th>0</th>\n",
       "      <td>3.761193</td>\n",
       "      <td>-0.300589</td>\n",
       "      <td>-0.414185</td>\n",
       "      <td>1.938490</td>\n",
       "      <td>-0.499149</td>\n",
       "      <td>0.339889</td>\n",
       "      <td>-0.716948</td>\n",
       "      <td>-0.273223</td>\n",
       "    </tr>\n",
       "    <tr>\n",
       "      <th>1</th>\n",
       "      <td>-2.374080</td>\n",
       "      <td>0.187720</td>\n",
       "      <td>-0.236268</td>\n",
       "      <td>-1.017997</td>\n",
       "      <td>-0.559938</td>\n",
       "      <td>0.465505</td>\n",
       "      <td>-0.490304</td>\n",
       "      <td>0.290448</td>\n",
       "    </tr>\n",
       "    <tr>\n",
       "      <th>2</th>\n",
       "      <td>1.623496</td>\n",
       "      <td>-0.170628</td>\n",
       "      <td>-1.115931</td>\n",
       "      <td>-0.233487</td>\n",
       "      <td>-0.119940</td>\n",
       "      <td>-0.068808</td>\n",
       "      <td>-1.495494</td>\n",
       "      <td>0.374079</td>\n",
       "    </tr>\n",
       "    <tr>\n",
       "      <th>3</th>\n",
       "      <td>-2.505794</td>\n",
       "      <td>-1.443376</td>\n",
       "      <td>0.204285</td>\n",
       "      <td>0.068624</td>\n",
       "      <td>0.254336</td>\n",
       "      <td>-0.364474</td>\n",
       "      <td>-1.315640</td>\n",
       "      <td>0.087233</td>\n",
       "    </tr>\n",
       "    <tr>\n",
       "      <th>4</th>\n",
       "      <td>-0.435241</td>\n",
       "      <td>0.020251</td>\n",
       "      <td>-0.466583</td>\n",
       "      <td>0.319716</td>\n",
       "      <td>0.596745</td>\n",
       "      <td>-0.944253</td>\n",
       "      <td>1.524864</td>\n",
       "      <td>-1.006550</td>\n",
       "    </tr>\n",
       "  </tbody>\n",
       "</table>\n",
       "</div>"
      ],
      "text/plain": [
       "        PC1       PC2       PC3       PC4       PC5       PC6       PC7  \\\n",
       "0  3.761193 -0.300589 -0.414185  1.938490 -0.499149  0.339889 -0.716948   \n",
       "1 -2.374080  0.187720 -0.236268 -1.017997 -0.559938  0.465505 -0.490304   \n",
       "2  1.623496 -0.170628 -1.115931 -0.233487 -0.119940 -0.068808 -1.495494   \n",
       "3 -2.505794 -1.443376  0.204285  0.068624  0.254336 -0.364474 -1.315640   \n",
       "4 -0.435241  0.020251 -0.466583  0.319716  0.596745 -0.944253  1.524864   \n",
       "\n",
       "        PC8  \n",
       "0 -0.273223  \n",
       "1  0.290448  \n",
       "2  0.374079  \n",
       "3  0.087233  \n",
       "4 -1.006550  "
      ]
     },
     "execution_count": 56,
     "metadata": {},
     "output_type": "execute_result"
    }
   ],
   "source": [
    "pca = PCA(n_components = 8)\n",
    "\n",
    "pca_df = pd.DataFrame(pca.fit_transform(scaled_features_df), columns = ['PC1','PC2','PC3','PC4','PC5','PC6','PC7','PC8'])\n",
    "pca_df.head()"
   ]
  },
  {
   "cell_type": "code",
   "execution_count": 59,
   "id": "e69c0a81",
   "metadata": {},
   "outputs": [],
   "source": [
    "cluster_errors =[]\n",
    "cluster_range = range(2,15)\n",
    "for num_clusters in cluster_range:\n",
    "    clusters = KMeans(num_clusters,random_state = 100)\n",
    "    clusters.fit(pca_df)\n",
    "    cluster_errors.append(clusters.inertia_)"
   ]
  },
  {
   "cell_type": "markdown",
   "id": "d8463aed",
   "metadata": {
    "id": "d8463aed"
   },
   "source": [
    "### 17. Apply Agglomerative clustering and segment the data (Use Original data for clustering), and perform cluster analysis by doing bivariate analysis between the cluster label and different features and write your observations."
   ]
  },
  {
   "cell_type": "code",
   "execution_count": 68,
   "id": "b5ca165b",
   "metadata": {
    "id": "b5ca165b"
   },
   "outputs": [
    {
     "ename": "KeyError",
     "evalue": "'cluster_errors'",
     "output_type": "error",
     "traceback": [
      "\u001b[1;31m---------------------------------------------------------------------------\u001b[0m",
      "\u001b[1;31mKeyError\u001b[0m                                  Traceback (most recent call last)",
      "File \u001b[1;32m~\\anaconda3\\lib\\site-packages\\pandas\\core\\indexes\\base.py:3802\u001b[0m, in \u001b[0;36mIndex.get_loc\u001b[1;34m(self, key, method, tolerance)\u001b[0m\n\u001b[0;32m   3801\u001b[0m \u001b[38;5;28;01mtry\u001b[39;00m:\n\u001b[1;32m-> 3802\u001b[0m     \u001b[38;5;28;01mreturn\u001b[39;00m \u001b[38;5;28;43mself\u001b[39;49m\u001b[38;5;241;43m.\u001b[39;49m\u001b[43m_engine\u001b[49m\u001b[38;5;241;43m.\u001b[39;49m\u001b[43mget_loc\u001b[49m\u001b[43m(\u001b[49m\u001b[43mcasted_key\u001b[49m\u001b[43m)\u001b[49m\n\u001b[0;32m   3803\u001b[0m \u001b[38;5;28;01mexcept\u001b[39;00m \u001b[38;5;167;01mKeyError\u001b[39;00m \u001b[38;5;28;01mas\u001b[39;00m err:\n",
      "File \u001b[1;32m~\\anaconda3\\lib\\site-packages\\pandas\\_libs\\index.pyx:138\u001b[0m, in \u001b[0;36mpandas._libs.index.IndexEngine.get_loc\u001b[1;34m()\u001b[0m\n",
      "File \u001b[1;32m~\\anaconda3\\lib\\site-packages\\pandas\\_libs\\index.pyx:165\u001b[0m, in \u001b[0;36mpandas._libs.index.IndexEngine.get_loc\u001b[1;34m()\u001b[0m\n",
      "File \u001b[1;32mpandas\\_libs\\hashtable_class_helper.pxi:5745\u001b[0m, in \u001b[0;36mpandas._libs.hashtable.PyObjectHashTable.get_item\u001b[1;34m()\u001b[0m\n",
      "File \u001b[1;32mpandas\\_libs\\hashtable_class_helper.pxi:5753\u001b[0m, in \u001b[0;36mpandas._libs.hashtable.PyObjectHashTable.get_item\u001b[1;34m()\u001b[0m\n",
      "\u001b[1;31mKeyError\u001b[0m: 'cluster_errors'",
      "\nThe above exception was the direct cause of the following exception:\n",
      "\u001b[1;31mKeyError\u001b[0m                                  Traceback (most recent call last)",
      "Cell \u001b[1;32mIn[68], line 4\u001b[0m\n\u001b[0;32m      1\u001b[0m cluster_df \u001b[38;5;241m=\u001b[39m pd\u001b[38;5;241m.\u001b[39mDataFrame({\u001b[38;5;124m'\u001b[39m\u001b[38;5;124mnum_clusters\u001b[39m\u001b[38;5;124m'\u001b[39m:cluster_range,\u001b[38;5;124m'\u001b[39m\u001b[38;5;124mcluster errors\u001b[39m\u001b[38;5;124m'\u001b[39m:cluster_errors})\n\u001b[0;32m      3\u001b[0m plt\u001b[38;5;241m.\u001b[39mfigure(figsize\u001b[38;5;241m=\u001b[39m[\u001b[38;5;241m15\u001b[39m,\u001b[38;5;241m5\u001b[39m])\n\u001b[1;32m----> 4\u001b[0m plt\u001b[38;5;241m.\u001b[39mplot(cluster_df[\u001b[38;5;124m'\u001b[39m\u001b[38;5;124mnum_clusters\u001b[39m\u001b[38;5;124m'\u001b[39m],\u001b[43mcluster_df\u001b[49m\u001b[43m[\u001b[49m\u001b[38;5;124;43m'\u001b[39;49m\u001b[38;5;124;43mcluster_errors\u001b[39;49m\u001b[38;5;124;43m'\u001b[39;49m\u001b[43m]\u001b[49m,marker\u001b[38;5;241m=\u001b[39m\u001b[38;5;124m'\u001b[39m\u001b[38;5;124mo\u001b[39m\u001b[38;5;124m'\u001b[39m,color \u001b[38;5;241m=\u001b[39m\u001b[38;5;124m'\u001b[39m\u001b[38;5;124mb\u001b[39m\u001b[38;5;124m'\u001b[39m)\n\u001b[0;32m      5\u001b[0m plt\u001b[38;5;241m.\u001b[39mshow()\n",
      "File \u001b[1;32m~\\anaconda3\\lib\\site-packages\\pandas\\core\\frame.py:3807\u001b[0m, in \u001b[0;36mDataFrame.__getitem__\u001b[1;34m(self, key)\u001b[0m\n\u001b[0;32m   3805\u001b[0m \u001b[38;5;28;01mif\u001b[39;00m \u001b[38;5;28mself\u001b[39m\u001b[38;5;241m.\u001b[39mcolumns\u001b[38;5;241m.\u001b[39mnlevels \u001b[38;5;241m>\u001b[39m \u001b[38;5;241m1\u001b[39m:\n\u001b[0;32m   3806\u001b[0m     \u001b[38;5;28;01mreturn\u001b[39;00m \u001b[38;5;28mself\u001b[39m\u001b[38;5;241m.\u001b[39m_getitem_multilevel(key)\n\u001b[1;32m-> 3807\u001b[0m indexer \u001b[38;5;241m=\u001b[39m \u001b[38;5;28;43mself\u001b[39;49m\u001b[38;5;241;43m.\u001b[39;49m\u001b[43mcolumns\u001b[49m\u001b[38;5;241;43m.\u001b[39;49m\u001b[43mget_loc\u001b[49m\u001b[43m(\u001b[49m\u001b[43mkey\u001b[49m\u001b[43m)\u001b[49m\n\u001b[0;32m   3808\u001b[0m \u001b[38;5;28;01mif\u001b[39;00m is_integer(indexer):\n\u001b[0;32m   3809\u001b[0m     indexer \u001b[38;5;241m=\u001b[39m [indexer]\n",
      "File \u001b[1;32m~\\anaconda3\\lib\\site-packages\\pandas\\core\\indexes\\base.py:3804\u001b[0m, in \u001b[0;36mIndex.get_loc\u001b[1;34m(self, key, method, tolerance)\u001b[0m\n\u001b[0;32m   3802\u001b[0m     \u001b[38;5;28;01mreturn\u001b[39;00m \u001b[38;5;28mself\u001b[39m\u001b[38;5;241m.\u001b[39m_engine\u001b[38;5;241m.\u001b[39mget_loc(casted_key)\n\u001b[0;32m   3803\u001b[0m \u001b[38;5;28;01mexcept\u001b[39;00m \u001b[38;5;167;01mKeyError\u001b[39;00m \u001b[38;5;28;01mas\u001b[39;00m err:\n\u001b[1;32m-> 3804\u001b[0m     \u001b[38;5;28;01mraise\u001b[39;00m \u001b[38;5;167;01mKeyError\u001b[39;00m(key) \u001b[38;5;28;01mfrom\u001b[39;00m \u001b[38;5;21;01merr\u001b[39;00m\n\u001b[0;32m   3805\u001b[0m \u001b[38;5;28;01mexcept\u001b[39;00m \u001b[38;5;167;01mTypeError\u001b[39;00m:\n\u001b[0;32m   3806\u001b[0m     \u001b[38;5;66;03m# If we have a listlike key, _check_indexing_error will raise\u001b[39;00m\n\u001b[0;32m   3807\u001b[0m     \u001b[38;5;66;03m#  InvalidIndexError. Otherwise we fall through and re-raise\u001b[39;00m\n\u001b[0;32m   3808\u001b[0m     \u001b[38;5;66;03m#  the TypeError.\u001b[39;00m\n\u001b[0;32m   3809\u001b[0m     \u001b[38;5;28mself\u001b[39m\u001b[38;5;241m.\u001b[39m_check_indexing_error(key)\n",
      "\u001b[1;31mKeyError\u001b[0m: 'cluster_errors'"
     ]
    },
    {
     "data": {
      "text/plain": [
       "<Figure size 1500x500 with 0 Axes>"
      ]
     },
     "metadata": {},
     "output_type": "display_data"
    }
   ],
   "source": [
    "cluster_df = pd.DataFrame({'num_clusters':cluster_range,'cluster errors':cluster_errors})\n",
    "\n",
    "plt.figure(figsize=[15,5])\n",
    "plt.plot(cluster_df['num_clusters'],cluster_df['cluster_errors'],marker='o',color ='b')\n",
    "plt.show()"
   ]
  },
  {
   "cell_type": "markdown",
   "id": "797a5ecd",
   "metadata": {
    "id": "797a5ecd"
   },
   "source": [
    "### Visualization and Interpretation of results"
   ]
  },
  {
   "cell_type": "code",
   "execution_count": null,
   "id": "d1e75760",
   "metadata": {
    "id": "d1e75760"
   },
   "outputs": [],
   "source": []
  },
  {
   "cell_type": "markdown",
   "id": "36afd95b",
   "metadata": {
    "id": "36afd95b"
   },
   "source": [
    "-----\n",
    "## Happy Learning\n",
    "-----"
   ]
  }
 ],
 "metadata": {
  "colab": {
   "collapsed_sections": [
    "36afd95b"
   ],
   "name": "Unsupervised Learning - Lab session.ipynb",
   "provenance": []
  },
  "kernelspec": {
   "display_name": "Python 3 (ipykernel)",
   "language": "python",
   "name": "python3"
  },
  "language_info": {
   "codemirror_mode": {
    "name": "ipython",
    "version": 3
   },
   "file_extension": ".py",
   "mimetype": "text/x-python",
   "name": "python",
   "nbconvert_exporter": "python",
   "pygments_lexer": "ipython3",
   "version": "3.10.9"
  }
 },
 "nbformat": 4,
 "nbformat_minor": 5
}
